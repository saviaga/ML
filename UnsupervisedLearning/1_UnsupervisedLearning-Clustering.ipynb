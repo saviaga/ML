{
 "cells": [
  {
   "cell_type": "markdown",
   "metadata": {},
   "source": [
    "## Clustering for dataset exploration"
   ]
  },
  {
   "cell_type": "code",
   "execution_count": 1,
   "metadata": {},
   "outputs": [],
   "source": [
    "import pandas as pd\n",
    "import matplotlib.pyplot as plt\n",
    "from sklearn.cluster import KMeans\n",
    "\n",
    "points = pd.read_csv(\"seeds.csv\",header=None)\n",
    "samples = points.iloc[:,0:7]"
   ]
  },
  {
   "cell_type": "code",
   "execution_count": 2,
   "metadata": {},
   "outputs": [
    {
     "data": {
      "image/png": "[encoded data removed]",
      "text/plain": [
       "<Figure size 432x288 with 1 Axes>"
      ]
     },
     "metadata": {
      "needs_background": "light"
     },
     "output_type": "display_data"
    }
   ],
   "source": [
    "# We will use the k-means inertia graph to find the number of clusters\n",
    "# We are given an array samples containing the measurements (such as area,\n",
    "#perimeter, length, and several others) of samples of grain. \n",
    "\n",
    "ks = range(1, 6)\n",
    "inertias = []\n",
    "\n",
    "for k in ks:\n",
    "    # Create a KMeans instance with k clusters: model\n",
    "    model = KMeans(n_clusters=k)\n",
    "    \n",
    "    # Fit model to samples\n",
    "    model.fit(samples)\n",
    "    \n",
    "    # Append the inertia to the list of inertias\n",
    "    inertias.append(model.inertia_)\n",
    "    \n",
    "# Plot ks vs inertias\n",
    "plt.plot(ks, inertias, '-o')\n",
    "plt.xlabel('number of clusters, k')\n",
    "plt.ylabel('inertia')\n",
    "plt.xticks(ks)\n",
    "plt.show()\n"
   ]
  },
  {
   "cell_type": "markdown",
   "metadata": {},
   "source": [
    "Evaluating the grain clustering\n",
    "\n",
    "From the inertia plot we can see that 3 is a good number of clusters for the grain data."
   ]
  },
  {
   "cell_type": "code",
   "execution_count": 3,
   "metadata": {},
   "outputs": [],
   "source": [
    "# Create a KMeans model with 3 clusters: model\n",
    "model = KMeans(n_clusters=3)\n",
    "\n",
    "# Use fit_predict to fit model and obtain cluster labels: labels\n",
    "labels = model.fit_predict(samples)\n",
    "\n"
   ]
  },
  {
   "cell_type": "markdown",
   "metadata": {},
   "source": [
    "### Scaling fish data for clustering\n",
    "\n",
    "You are given an array samples giving measurements of fish. Each row represents an individual fish. The measurements, such as weight in grams, length in centimeters, and the percentage ratio of height to length, have very different scales. In order to cluster this data effectively, We'll need to standardize these features first. In this exercise, We'll build a pipeline to standardize and cluster the data."
   ]
  },
  {
   "cell_type": "code",
   "execution_count": 4,
   "metadata": {},
   "outputs": [],
   "source": [
    "# Perform the necessary imports\n",
    "from sklearn.pipeline import make_pipeline\n",
    "from sklearn.preprocessing import StandardScaler\n",
    "from sklearn.cluster import KMeans\n",
    "import pandas as pd\n",
    "\n",
    "# Create scaler: scaler\n",
    "scaler = StandardScaler()\n",
    "\n",
    "# Create KMeans instance: kmeans\n",
    "kmeans = KMeans(n_clusters=4)\n",
    "\n",
    "# Create pipeline: pipeline\n",
    "pipeline = make_pipeline(scaler,kmeans)\n",
    "\n",
    "fish = pd.read_csv(\"fish.csv\",header=None)\n",
    "samples = fish.iloc[:,1:].values\n",
    "species = fish.iloc[:,0]\n",
    "\n"
   ]
  },
  {
   "cell_type": "code",
   "execution_count": 5,
   "metadata": {},
   "outputs": [
    {
     "name": "stdout",
     "output_type": "stream",
     "text": [
      "species  Bream  Pike  Roach  Smelt\n",
      "labels                            \n",
      "0            0    17      0      0\n",
      "1            1     0     19      1\n",
      "2           33     0      1      0\n",
      "3            0     0      0     13\n"
     ]
    }
   ],
   "source": [
    "\n",
    "\n",
    "# Fit the pipeline to samples\n",
    "pipeline.fit(samples)\n",
    "\n",
    "# Calculate the cluster labels: labels\n",
    "labels = pipeline.predict(samples)\n",
    "\n",
    "# Create a DataFrame with labels and species as columns: df\n",
    "df = pd.DataFrame({'labels': labels, 'species': species})\n",
    "\n",
    "# Create crosstab: ct\n",
    "ct = pd.crosstab(df['labels'], df['species'])\n",
    "\n",
    "\n",
    "# Display ct\n",
    "print(ct)\n"
   ]
  },
  {
   "cell_type": "markdown",
   "metadata": {},
   "source": [
    "### Normalizing stock data\n",
    "\n",
    "We'll cluster companies using their daily stock price movements (i.e. the dollar difference between the closing and opening prices for each trading day). Some stocks are more expensive than others. To account for this, we will include a Normalizer at the beginning of the pipeline. The Normalizer will separately transform each company's stock price to a relative scale before the clustering begins.\n",
    "\n",
    "Normalizer() is different to StandardScaler(). While StandardScaler() standardizes features (such as the features of the fish data from the previous exercise) by removing the mean and scaling to unit variance, Normalizer() rescales each sample - here, each company's stock price - independently of the other.\n"
   ]
  },
  {
   "cell_type": "code",
   "execution_count": 6,
   "metadata": {},
   "outputs": [
    {
     "data": {
      "text/plain": [
       "Pipeline(memory=None,\n",
       "         steps=[('normalizer', Normalizer(copy=True, norm='l2')),\n",
       "                ('kmeans',\n",
       "                 KMeans(algorithm='auto', copy_x=True, init='k-means++',\n",
       "                        max_iter=300, n_clusters=10, n_init=10, n_jobs=None,\n",
       "                        precompute_distances='auto', random_state=None,\n",
       "                        tol=0.0001, verbose=0))],\n",
       "         verbose=False)"
      ]
     },
     "execution_count": 6,
     "metadata": {},
     "output_type": "execute_result"
    }
   ],
   "source": [
    "# Import Normalizer\n",
    "from sklearn.preprocessing import Normalizer\n",
    "\n",
    "#import data\n",
    "stock = pd.read_csv(\"company-stock-movements-2010-2015-incl.csv\",header=0)\n",
    "movements = stock.iloc[:,1:].values\n",
    "companies = stock.iloc[:,0]\n",
    "\n",
    "# Create a normalizer: normalizer\n",
    "normalizer = Normalizer()\n",
    "\n",
    "# Create a KMeans model with 10 clusters: kmeans\n",
    "kmeans = KMeans(n_clusters=10)\n",
    "\n",
    "# Make a pipeline chaining normalizer and kmeans: pipeline\n",
    "pipeline = make_pipeline(normalizer,kmeans)\n",
    "\n",
    "# Fit pipeline to the daily price movements\n",
    "pipeline.fit(movements)\n"
   ]
  },
  {
   "cell_type": "markdown",
   "metadata": {},
   "source": [
    "## # Which stocks move together?\n",
    "\n",
    "We already clustered companies by their daily stock price movements. So which company have stock prices that tend to change in the same way? We'll now inspect the cluster labels from your clustering to find out.\n",
    "\n"
   ]
  },
  {
   "cell_type": "code",
   "execution_count": 7,
   "metadata": {},
   "outputs": [
    {
     "name": "stdout",
     "output_type": "stream",
     "text": [
      "    labels                           companies\n",
      "53       0                       Valero Energy\n",
      "23       0                                 IBM\n",
      "57       0                               Exxon\n",
      "44       0                        Schlumberger\n",
      "16       0                   General Electrics\n",
      "42       0                   Royal Dutch Shell\n",
      "39       0                              Pfizer\n",
      "49       0                               Total\n",
      "8        0                         Caterpillar\n",
      "10       0                      ConocoPhillips\n",
      "32       0                                  3M\n",
      "12       0                             Chevron\n",
      "13       0                   DuPont de Nemours\n",
      "58       1                               Xerox\n",
      "34       1                          Mitsubishi\n",
      "35       1                            Navistar\n",
      "43       1                                 SAP\n",
      "45       1                                Sony\n",
      "22       1                                  HP\n",
      "21       1                               Honda\n",
      "48       1                              Toyota\n",
      "15       1                                Ford\n",
      "7        1                               Canon\n",
      "29       2                     Lookheed Martin\n",
      "4        2                              Boeing\n",
      "36       2                    Northrop Grumman\n",
      "46       3                      Sanofi-Aventis\n",
      "41       3                       Philip Morris\n",
      "6        3            British American Tobacco\n",
      "37       3                            Novartis\n",
      "52       3                            Unilever\n",
      "19       3                     GlaxoSmithKline\n",
      "31       3                           McDonalds\n",
      "30       4                          MasterCard\n",
      "20       4                          Home Depot\n",
      "55       4                         Wells Fargo\n",
      "1        4                                 AIG\n",
      "3        4                    American express\n",
      "56       5                            Wal-Mart\n",
      "54       5                            Walgreen\n",
      "25       5                   Johnson & Johnson\n",
      "40       5                      Procter Gamble\n",
      "38       5                               Pepsi\n",
      "27       5                      Kimberly-Clark\n",
      "28       5                           Coca Cola\n",
      "9        5                   Colgate-Palmolive\n",
      "5        6                     Bank of America\n",
      "18       6                       Goldman Sachs\n",
      "26       6                      JPMorgan Chase\n",
      "59       7                               Yahoo\n",
      "17       7                     Google/Alphabet\n",
      "2        7                              Amazon\n",
      "0        8                               Apple\n",
      "50       9  Taiwan Semiconductor Manufacturing\n",
      "51       9                   Texas instruments\n",
      "33       9                           Microsoft\n",
      "24       9                               Intel\n",
      "14       9                                Dell\n",
      "11       9                               Cisco\n",
      "47       9                            Symantec\n"
     ]
    }
   ],
   "source": [
    "\n",
    "# Predict the cluster labels: labels\n",
    "labels = pipeline.predict(movements)\n",
    "\n",
    "# Create a DataFrame aligning labels and companies: df\n",
    "df = pd.DataFrame({'labels': labels, 'companies': companies})\n",
    "\n",
    "# Display df sorted by cluster label\n",
    "print(df.sort_values(by='labels'))\n"
   ]
  }
 ],
 "metadata": {
  "kernelspec": {
   "display_name": "machine",
   "language": "python",
   "name": "machine"
  },
  "language_info": {
   "codemirror_mode": {
    "name": "ipython",
    "version": 3
   },
   "file_extension": ".py",
   "mimetype": "text/x-python",
   "name": "python",
   "nbconvert_exporter": "python",
   "pygments_lexer": "ipython3",
   "version": "3.6.4"
  }
 },
 "nbformat": 4,
 "nbformat_minor": 4
}
