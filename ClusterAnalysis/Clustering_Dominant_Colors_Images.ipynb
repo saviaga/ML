{
 "cells": [
  {
   "cell_type": "markdown",
   "metadata": {},
   "source": [
    "### Extract RGB values from image\n",
    "There are broadly three steps to find the dominant colors in an image:\n",
    "\n",
    "- Extract RGB values into three lists.\n",
    "- Perform k-means clustering on scaled RGB values.\n",
    "- Display the colors of cluster centers.\n",
    "\n",
    "<img src=\"superheroe.jpg\" width=\"400\" height=\"400\">"
   ]
  },
  {
   "cell_type": "code",
   "execution_count": 1,
   "metadata": {},
   "outputs": [
    {
     "name": "stdout",
     "output_type": "stream",
     "text": [
      "(169, 269, 3)\n"
     ]
    }
   ],
   "source": [
    "# Import image class of matplotlib\n",
    "from matplotlib import pyplot as plt\n",
    "import matplotlib.image as img\n",
    "from scipy.cluster.vq import vq, kmeans, whiten\n",
    "import seaborn as sns, pandas as pd\n",
    "\n",
    "# Read batman image and print dimensions\n",
    "batman_image = img.imread('superheroe.jpg')\n",
    "print(batman_image.shape)\n",
    "\n",
    "# Store RGB values of all pixels in lists r, g and b\n",
    "r,g,b=[],[],[]\n",
    "for row in batman_image:\n",
    "    for temp_r, temp_g, temp_b in row:\n",
    "        r.append(temp_r)\n",
    "        g.append(temp_g)\n",
    "        b.append(temp_b)"
   ]
  },
  {
   "cell_type": "markdown",
   "metadata": {},
   "source": [
    "### How many dominant colors?"
   ]
  },
  {
   "cell_type": "code",
   "execution_count": 2,
   "metadata": {},
   "outputs": [
    {
     "data": {
      "image/png": "[encoded data removed]",
      "text/plain": [
       "<Figure size 432x288 with 1 Axes>"
      ]
     },
     "metadata": {
      "needs_background": "light"
     },
     "output_type": "display_data"
    }
   ],
   "source": [
    "distortions = []\n",
    "num_clusters = range(1, 7)\n",
    "\n",
    "scaled_red = whiten(r)\n",
    "scaled_green = whiten(g)\n",
    "scaled_blue = whiten(b)\n",
    "\n",
    "batman_df = pd.DataFrame({'scaled_red': scaled_red, 'scaled_blue': scaled_blue,'scaled_green':scaled_green,'red':r,'blue':b,'green':g})\n",
    "\n",
    "# Create a list of distortions from the kmeans function\n",
    "for i in num_clusters:\n",
    "    cluster_centers, distortion = kmeans(batman_df[['scaled_red','scaled_blue','scaled_green']], i)\n",
    "\n",
    "    distortions.append(distortion)\n",
    "\n",
    "# Create a data frame with two lists, num_clusters and distortions\n",
    "elbow_plot = pd.DataFrame({'num_clusters': num_clusters, 'distortions': distortions})\n",
    "\n",
    "# Create a line plot of num_clusters and distortions\n",
    "sns.lineplot(x='num_clusters', y='distortions', data = elbow_plot)\n",
    "plt.xticks(num_clusters)\n",
    "plt.show()"
   ]
  },
  {
   "cell_type": "markdown",
   "metadata": {},
   "source": [
    "### Display dominant colors\n",
    "\n",
    "\n",
    "To display the dominant colors, we will convert the colors of the cluster centers to their raw values and then converted them to the range of 0-1, using the following formula: \n",
    "\n",
    "converted_pixel = standardized_pixel * pixel_std / 255"
   ]
  },
  {
   "cell_type": "code",
   "execution_count": 3,
   "metadata": {},
   "outputs": [
    {
     "data": {
      "image/png": "[encoded data removed]",
      "text/plain": [
       "<Figure size 432x288 with 1 Axes>"
      ]
     },
     "metadata": {
      "needs_background": "light"
     },
     "output_type": "display_data"
    },
    {
     "data": {
      "image/png": "[encoded data removed]",
      "text/plain": [
       "<Figure size 432x288 with 1 Axes>"
      ]
     },
     "metadata": {
      "needs_background": "light"
     },
     "output_type": "display_data"
    }
   ],
   "source": [
    "def display_clusters(cluster_centers):\n",
    "    colors = []\n",
    "    for cluster_center in cluster_centers:\n",
    "        scaled_r, scaled_g, scaled_b = cluster_center\n",
    "        # Convert each standardized value to scaled value\n",
    "        colors.append((\n",
    "            scaled_r * r_std/255,\n",
    "            scaled_g * g_std/255,\n",
    "            scaled_b * b_std/255\n",
    "        ))\n",
    "\n",
    "    # Display colors of cluster centers\n",
    "    plt.imshow([colors])\n",
    "    plt.show()\n",
    "\n",
    "\n",
    "\n",
    "# Get standard deviations of each color\n",
    "r_std, g_std, b_std = batman_df[['red', 'green', 'blue']].std()\n",
    "\n",
    "# Two clusters\n",
    "cluster_centers, distortion = kmeans(batman_df[['scaled_red','scaled_blue','scaled_green']], 2)\n",
    "display_clusters(cluster_centers)\n",
    "\n",
    "\n",
    "# Three clusters\n",
    "cluster_centers, distortion = kmeans(batman_df[['scaled_red','scaled_blue','scaled_green']], 3)\n",
    "display_clusters(cluster_centers)\n",
    "\n",
    "\n"
   ]
  },
  {
   "cell_type": "code",
   "execution_count": null,
   "metadata": {},
   "outputs": [],
   "source": []
  }
 ],
 "metadata": {
  "kernelspec": {
   "display_name": "machine2",
   "language": "python",
   "name": "machine2"
  },
  "language_info": {
   "codemirror_mode": {
    "name": "ipython",
    "version": 3
   },
   "file_extension": ".py",
   "mimetype": "text/x-python",
   "name": "python",
   "nbconvert_exporter": "python",
   "pygments_lexer": "ipython3",
   "version": "3.6.4"
  }
 },
 "nbformat": 4,
 "nbformat_minor": 4
}
